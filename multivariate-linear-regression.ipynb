{
 "cells": [
  {
   "cell_type": "markdown",
   "metadata": {
    "id": "0Ky8mp2_lPDt"
   },
   "source": [
    "# Problem Description\n",
    "\n",
    "This notebook will guide you through implementation of **multivariate linear regression** to solve the **polynomial regression** problem:\n",
    "\n",
    "$$\n",
    "h_{w}(x) = w_0 + w_1 x + w_2 x^2 +  w_3 x^3 + w_4 x^4\n",
    "= \\boldsymbol{w}^T \\mathbf{x}\n",
    "$$\n",
    "\n",
    "$$\n",
    "\\boldsymbol{w} = \\begin{bmatrix}w_0 \\\\ w_1 \\\\ w_2 \\\\ w_3 \\\\ w_4\\end{bmatrix}, \n",
    "\\qquad\n",
    "\\mathbf{x} = \\begin{bmatrix}1 \\\\ x \\\\ x^2 \\\\ x^3 \\\\ x^4\\end{bmatrix}\n",
    "$$\n",
    "\n",
    "Below, you will follow steps to \n",
    "\n",
    "1. Implement the cost function for multivarate linear regression\n",
    "1. Compare vectorized code with for-loops\n",
    "1. Implement the normal equations method to solve a multivariate linear regression problem\n",
    "1. Implement gradient descent for multivariate linear regression\n",
    "1. Experiment with feature normalization to improve the convergence of gradient descent\n"
   ]
  },
  {
   "cell_type": "markdown",
   "metadata": {
    "id": "n1a9_QeblPDu"
   },
   "source": [
    "## Imports\n",
    "Run this code."
   ]
  },
  {
   "cell_type": "code",
   "execution_count": 1,
   "metadata": {
    "id": "nsEG5KDjlPDv"
   },
   "outputs": [],
   "source": [
    "%matplotlib inline\n",
    "import time\n",
    "import numpy as np\n",
    "import matplotlib.pyplot as plt\n",
    "from IPython.display import display, clear_output"
   ]
  },
  {
   "cell_type": "markdown",
   "metadata": {
    "id": "tfEBO5FzlPDv"
   },
   "source": [
    "## Helper functions\n",
    "Run this code to set up the helper functions. The function ``feature_expansion`` accepts an vector of $n$ scalar x values and returns an $n \\times 5$ data matrix by applying the feature expansion $x \\mapsto [1, x, x^2, x^3, x^4]$ to each scalar $x$ value."
   ]
  },
  {
   "cell_type": "code",
   "execution_count": 2,
   "metadata": {
    "id": "WY_A4jIUlPDw"
   },
   "outputs": [],
   "source": [
    "def feature_expansion(x, deg):\n",
    "    if x.ndim > 1:\n",
    "        raise ValueError('x should be a 1-dimensional array')\n",
    "    m = x.shape\n",
    "    x_powers = [x**k for k in range(0,deg+1)]\n",
    "    X = np.stack( x_powers, axis=1 )\n",
    "\n",
    "    return X\n",
    "\n",
    "def plot_model(X_test, w):\n",
    "    '''\n",
    "    Note: uses globals x, y, x_test, which are assigned below\n",
    "    when the dataset is created. Don't overwrite these variables.\n",
    "    '''\n",
    "    y_test = np.dot(X_test, w)\n",
    "    plt.scatter(x, y)\n",
    "    plt.plot(x_test, y_test)\n",
    "    plt.legend(['Test', 'Train'])"
   ]
  },
  {
   "cell_type": "markdown",
   "metadata": {
    "id": "s8wDgZ-TlPDw"
   },
   "source": [
    "## (2 points) List comprehensions\n",
    "\n",
    "Read about Python list comprehensions. Explain what is happening in the following line of code\n",
    "\n",
    "```python\n",
    "x_powers = [x**k for k in range(0,deg+1)]\n",
    "```"
   ]
  },
  {
   "cell_type": "markdown",
   "metadata": {
    "id": "PVeu8OUPlPDw"
   },
   "source": [
    "Python list comprehennsion template goes like this:\n",
    "```python\n",
    "my_list = [expression for i in iterable if condition].\n",
    "```\n",
    "Since we do not have any conditions we can ignore if statemenet.\n",
    "In the rest of that line my_list will be created and expanded as the for loop goes on.\n",
    "Looking at our own example, x_powers will be a list of vectors of powers of x from 0 to 4.\n",
    "In the most simplest form this code can be implemented as following: \n",
    "\n",
    "```python\n",
    "x_powers = []\n",
    "for k in range (0, deg+1):\n",
    "    x_powers.append(x**k)\n",
    "```\n",
    "\n",
    "x**k  represents x^k or power(x, k)  - kth power of x\n"
   ]
  },
  {
   "cell_type": "markdown",
   "metadata": {
    "id": "J-RARTMUlPDw"
   },
   "source": [
    "## Create a data set for polynomial regression\n",
    "\n",
    "Read and run the code below. This generates data from a fourth-degree polynomial and then uses feature expansion to set up the problem of learning the polynomial as multivariate linear regression"
   ]
  },
  {
   "cell_type": "code",
   "execution_count": 3,
   "metadata": {
    "colab": {
     "base_uri": "https://localhost:8080/",
     "height": 295
    },
    "executionInfo": {
     "elapsed": 385,
     "status": "ok",
     "timestamp": 1614045113141,
     "user": {
      "displayName": "Diksha Shukla",
      "photoUrl": "https://lh3.googleusercontent.com/a-/AOh14Gj8lXg0hKeWY2rkOSOCVonzSRMlTllqRE8wPyEZ8A=s64",
      "userId": "05403595953476788588"
     },
     "user_tz": 420
    },
    "id": "oL0pFO_ylPDw",
    "outputId": "d99edbad-f45f-4ce9-c704-c39159bca982"
   },
   "outputs": [
    {
     "data": {
      "image/png": "[encoded data removed]",
      "text/plain": [
       "<Figure size 432x288 with 1 Axes>"
      ]
     },
     "metadata": {
      "needs_background": "light"
     },
     "output_type": "display_data"
    }
   ],
   "source": [
    "# Set random seed\n",
    "np.random.seed(0)\n",
    "\n",
    "# Create random set of m training x values between -5 and 5\n",
    "m = 100\n",
    "x = np.random.rand(m)*10 - 5   \n",
    "\n",
    "# Create evenly spaced test x values (for plotting)\n",
    "x_test  = np.linspace(-5, 5, 100)\n",
    "m_test  = len(x_test)\n",
    "\n",
    "# Feature expansion for training and test x values\n",
    "deg = 4\n",
    "X      = feature_expansion(x, deg)\n",
    "X_test = feature_expansion(x_test, deg)\n",
    "\n",
    "n = deg + 1   # total number of features including the '1' feature\n",
    "\n",
    "# Define parameters (w) and generate y values\n",
    "w = 0.1*np.array([1, 1, 10, 0.5, -0.5])\n",
    "y = np.dot(X, w) + np.random.randn(m)   # polynomial plus noise\n",
    "\n",
    "# Plot the training data\n",
    "plt.scatter(x, y)\n",
    "plt.title('Training Data')\n",
    "plt.xlabel('x')\n",
    "plt.ylabel('y')\n",
    "plt.show()\n"
   ]
  },
  {
   "cell_type": "code",
   "execution_count": 4,
   "metadata": {
    "colab": {
     "base_uri": "https://localhost:8080/"
    },
    "executionInfo": {
     "elapsed": 176,
     "status": "ok",
     "timestamp": 1614045197921,
     "user": {
      "displayName": "Diksha Shukla",
      "photoUrl": "https://lh3.googleusercontent.com/a-/AOh14Gj8lXg0hKeWY2rkOSOCVonzSRMlTllqRE8wPyEZ8A=s64",
      "userId": "05403595953476788588"
     },
     "user_tz": 420
    },
    "id": "BlJ8EEzclPDx",
    "outputId": "f760c02b-4811-4e14-8dbb-0b5b6fe29c64"
   },
   "outputs": [
    {
     "name": "stdout",
     "output_type": "stream",
     "text": [
      "0.48813503927324753\n",
      "[1.         0.48813504 0.23827582 0.11631078 0.05677536]\n"
     ]
    }
   ],
   "source": [
    "#look at the feature expansion for a single training example\n",
    "print(x[0]) #original data \n",
    "print(X[0]) #data with feature expansion"
   ]
  },
  {
   "cell_type": "markdown",
   "metadata": {
    "id": "0QByxowPlPDx"
   },
   "source": [
    "## Implement the cost function\n",
    "Follow the instructions to implement the following cost function for multivariate linear regression:\n",
    "\n",
    "$$J(w) = \\frac{1}{2}\\sum_{i=1}^n(h_{w}(x^{(i)})-y^{(i)})^2$$"
   ]
  },
  {
   "cell_type": "markdown",
   "metadata": {
    "id": "oaZad9DWlPDx"
   },
   "source": [
    "### (3 points)  Cost function with loops \n",
    "First, implement the cost function using a for-loops: `cost_function_loops`."
   ]
  },
  {
   "cell_type": "code",
   "execution_count": 5,
   "metadata": {
    "id": "eD1ANimTlPDx"
   },
   "outputs": [],
   "source": [
    "def cost_function_loops(X, y, w):  \n",
    "    '''\n",
    "    Compute the cost function for a particular data set and \n",
    "    hypothesis (parameter vector)\n",
    "    \n",
    "    \n",
    "    Inputs: \n",
    "        X       m x n data matrix\n",
    "        y       training output (length m vector)\n",
    "        w   parameters (length n vector)\n",
    "    Output:\n",
    "        cost    the value of the cost function (scalar)\n",
    "    '''\n",
    "    \n",
    "    ''' cost function implementation with one for loop\n",
    "    cost = 0    \n",
    "    for i in range(len(X)):\n",
    "        cost = cost + (y[i] - np.matmul(X[[i], :], w))**2\n",
    "    \n",
    "    cost = cost/2\n",
    "    '''\n",
    "    \n",
    "    '''Or cost function can be implemented with two for loops, (both give the same results)'''\n",
    "    cost  = 0\n",
    "    for i in range(len(X)):\n",
    "        y_hat_i = 0\n",
    "        for j in range(len(w)):\n",
    "            y_hat_i = y_hat_i + X[i, j] * w[j]\n",
    "        \n",
    "        cost = cost + (y[i] - y_hat_i)**2\n",
    "\n",
    "    cost = cost/2\n",
    "    \n",
    "    return cost"
   ]
  },
  {
   "cell_type": "markdown",
   "metadata": {
    "id": "qXQKxF6QlPDx"
   },
   "source": [
    "### (3 points)  Vectorized cost function \n",
    "Now, implment the same cost function but now WITHOUT any for-loops. You should be using NumPy. This is a \"vectorized\" version of the cost function: `cost_function_vec`"
   ]
  },
  {
   "cell_type": "code",
   "execution_count": 6,
   "metadata": {
    "id": "PQ7GHFi6lPDy"
   },
   "outputs": [],
   "source": [
    "def cost_function_vec(X, y, w):  \n",
    "    '''\n",
    "    No for-loops allowed! \n",
    "    \n",
    "    Compute the cost function for a particular data set and \n",
    "    hypothesis (parameter vector)\n",
    "    \n",
    "    Inputs: \n",
    "        X       m x n data matrix\n",
    "        y       training output (length m vector)\n",
    "        w   parameters (length n vector)\n",
    "    Output:\n",
    "        cost    the value of the cost function (scalar)\n",
    "    '''\n",
    "    \n",
    "    cost = 1/2 * np.matmul(np.transpose(y-np.matmul(X, w)), y - np.matmul(X, w))\n",
    "    \n",
    "    return cost"
   ]
  },
  {
   "cell_type": "markdown",
   "metadata": {
    "id": "2WDJCWxolPDy"
   },
   "source": [
    "## Test the cost function\n",
    "Run this to test your cost function."
   ]
  },
  {
   "cell_type": "code",
   "execution_count": 7,
   "metadata": {
    "colab": {
     "base_uri": "https://localhost:8080/"
    },
    "executionInfo": {
     "elapsed": 112,
     "status": "ok",
     "timestamp": 1614046140816,
     "user": {
      "displayName": "Diksha Shukla",
      "photoUrl": "https://lh3.googleusercontent.com/a-/AOh14Gj8lXg0hKeWY2rkOSOCVonzSRMlTllqRE8wPyEZ8A=s64",
      "userId": "05403595953476788588"
     },
     "user_tz": 420
    },
    "id": "hbeB-dIklPDy",
    "outputId": "b77e9ecc-2e8b-49e4-b053-22640174ddda"
   },
   "outputs": [
    {
     "name": "stdout",
     "output_type": "stream",
     "text": [
      "cost_function_loops\n",
      "====================\n",
      "Cost (random): 54523.64\n",
      "Cost (zeros): 845.65\n",
      "Cost (ones): 2524681.08\n",
      "\n",
      "cost_function_vec\n",
      "====================\n",
      "Cost (random): 54523.64\n",
      "Cost (zeros): 845.65\n",
      "Cost (ones): 2524681.08\n",
      "\n"
     ]
    }
   ],
   "source": [
    "np.random.seed(1)\n",
    "\n",
    "w_random = np.random.rand(n)\n",
    "w_zeros  = np.zeros(n)\n",
    "w_ones   = np.ones(n)\n",
    "\n",
    "print(\"cost_function_loops\")\n",
    "print(\"==\"*10)\n",
    "print( \"Cost (random): %.2f\" % cost_function_loops(X, y, w_random))  # prints 54523.64\n",
    "print( \"Cost (zeros): %.2f\" % cost_function_loops(X, y, w_zeros))   # prints 845.65\n",
    "print( \"Cost (ones): %.2f\" % cost_function_loops(X, y, w_ones))    # prints 2524681.08\n",
    "print()\n",
    "print(\"cost_function_vec\")\n",
    "print(\"==\"*10)\n",
    "print( \"Cost (random): %.2f\" % cost_function_vec(X, y, w_random))  # prints 54523.64\n",
    "print( \"Cost (zeros): %.2f\" % cost_function_vec(X, y, w_zeros))   # prints 845.65\n",
    "print( \"Cost (ones): %.2f\" % cost_function_vec(X, y, w_ones))    # prints 2524681.08\n",
    "print()\n",
    "#Note: The for-loop and vectorized cost function implementations should return the EXACT \n",
    "# same results. "
   ]
  },
  {
   "cell_type": "markdown",
   "metadata": {
    "id": "gJh9F-MblPDy"
   },
   "source": [
    "## (2 points)  Time cost functions \n",
    "\n",
    "- Run `cost_function_loops` and `cost_function_vec` each 100 times for `w_random` and the `X` and `y` given above\n",
    "- Print out the mean and standard deviation across all runs for each function \n",
    "- Report which function is faster.  "
   ]
  },
  {
   "cell_type": "code",
   "execution_count": 8,
   "metadata": {
    "id": "VfhEOwyrlPDz"
   },
   "outputs": [
    {
     "name": "stdout",
     "output_type": "stream",
     "text": [
      "in seconds ... \n",
      "mean time for cost_function_loops: 0.000657\n",
      "mean time for cost_function_vec: 0.000000 \n",
      "standart deviation of time for cost_function_loops: 0.002532\n",
      "standart deviation of time for cost_function_vec: 0.000000\n"
     ]
    }
   ],
   "source": [
    "np.random.seed(1)\n",
    "w_random = np.random.rand(n)\n",
    "##################\n",
    "\n",
    "timeCostFunctionLoops = []\n",
    "timeCostFunctionVec = []\n",
    "\n",
    "# run cost function loop 100 times\n",
    "for i in range(100):\n",
    "    tic = time.time()\n",
    "    cost_function_loops(X, y, w_random)\n",
    "    toc = time.time()\n",
    "    timeCostFunctionLoops.append(toc - tic)\n",
    "\n",
    "# run cost function vectorized 100 times\n",
    "for i in range(100):\n",
    "    tic = time.time()\n",
    "    cost_function_vec(X, y, w_random)\n",
    "    toc = time.time()\n",
    "    timeCostFunctionVec.append(toc - tic)\n",
    "\n",
    "timeCostFunctionLoops_mean = np.mean(timeCostFunctionLoops)\n",
    "timeCostFunctionVec_mean = np.mean(timeCostFunctionVec)\n",
    "timeCostFunctionLoops_std = np.std(timeCostFunctionLoops)\n",
    "timeCostFunctionVec_std = np.std(timeCostFunctionVec)\n",
    "\n",
    "print('in seconds ... ')\n",
    "print(f'mean time for cost_function_loops: {timeCostFunctionLoops_mean:0.6f}')\n",
    "print(f'mean time for cost_function_vec: {timeCostFunctionVec_mean:0.6f} ')\n",
    "\n",
    "print(f'standart deviation of time for cost_function_loops: {timeCostFunctionLoops_std:0.6f}')\n",
    "print(f'standart deviation of time for cost_function_vec: {timeCostFunctionVec_std:0.6f}')\n",
    "\n"
   ]
  },
  {
   "cell_type": "markdown",
   "metadata": {
    "id": "aPYBqfRClPDz"
   },
   "source": [
    "Vectorized implementation is around 100 to 1000 times faster than loops"
   ]
  },
  {
   "cell_type": "markdown",
   "metadata": {
    "id": "1_iVBKj1lPDz"
   },
   "source": [
    "### For the rest of this notebook, we will use the vectorized implementation of the cost function \n",
    "Run the code below. "
   ]
  },
  {
   "cell_type": "code",
   "execution_count": 9,
   "metadata": {
    "id": "xWIPTAsMlPDz"
   },
   "outputs": [],
   "source": [
    "cost_function = cost_function_vec"
   ]
  },
  {
   "cell_type": "code",
   "execution_count": 10,
   "metadata": {
    "colab": {
     "base_uri": "https://localhost:8080/"
    },
    "executionInfo": {
     "elapsed": 143,
     "status": "ok",
     "timestamp": 1614046763860,
     "user": {
      "displayName": "Diksha Shukla",
      "photoUrl": "https://lh3.googleusercontent.com/a-/AOh14Gj8lXg0hKeWY2rkOSOCVonzSRMlTllqRE8wPyEZ8A=s64",
      "userId": "05403595953476788588"
     },
     "user_tz": 420
    },
    "id": "ra9vyknZlPDz",
    "outputId": "257d8520-4591-4002-a460-f5f05e09485b"
   },
   "outputs": [
    {
     "data": {
      "text/plain": [
       "54523.64276966483"
      ]
     },
     "execution_count": 10,
     "metadata": {},
     "output_type": "execute_result"
    }
   ],
   "source": [
    "#make sure it works \n",
    "cost_function(X, y, w_random)"
   ]
  },
  {
   "cell_type": "markdown",
   "metadata": {
    "id": "xf8Pz7LslPDz"
   },
   "source": [
    "## (7 points) Implement first training algorithm: normal equations\n",
    "Implement a *vectorized* version of the normal equations! If you use for-loops you will not get full credit. "
   ]
  },
  {
   "cell_type": "code",
   "execution_count": 11,
   "metadata": {
    "executionInfo": {
     "elapsed": 120,
     "status": "ok",
     "timestamp": 1614046765668,
     "user": {
      "displayName": "Diksha Shukla",
      "photoUrl": "https://lh3.googleusercontent.com/a-/AOh14Gj8lXg0hKeWY2rkOSOCVonzSRMlTllqRE8wPyEZ8A=s64",
      "userId": "05403595953476788588"
     },
     "user_tz": 420
    },
    "id": "C1RApaexlPD0"
   },
   "outputs": [],
   "source": [
    "def normal_equations(X, y):\n",
    "    '''\n",
    "    Train a linear regression model using the normal equations\n",
    "\n",
    "    Inputs: \n",
    "        X       m x n data matrix\n",
    "        y       training output (length m vector)\n",
    "    Output:\n",
    "        w       parameters (length n vector)\n",
    "\n",
    "    '''\n",
    "    m, n = X.shape\n",
    "    # closed form solution: set cost function gradient to zero\n",
    "    w = np.matmul(np.matmul(np.linalg.inv(np.matmul(np.transpose(X), X)), np.transpose(X)), y)\n",
    "\n",
    "    return w"
   ]
  },
  {
   "cell_type": "markdown",
   "metadata": {
    "id": "zws3M65WlPD0"
   },
   "source": [
    "## Use normal equations to fit the model\n",
    "Run this code to test your implementation of the normal equations. If it runs properly you will see a curve that fits the data well. Note the value of the cost function for ``w_normal_equations``."
   ]
  },
  {
   "cell_type": "code",
   "execution_count": 12,
   "metadata": {
    "colab": {
     "base_uri": "https://localhost:8080/",
     "height": 286
    },
    "executionInfo": {
     "elapsed": 330,
     "status": "ok",
     "timestamp": 1614046768222,
     "user": {
      "displayName": "Diksha Shukla",
      "photoUrl": "https://lh3.googleusercontent.com/a-/AOh14Gj8lXg0hKeWY2rkOSOCVonzSRMlTllqRE8wPyEZ8A=s64",
      "userId": "05403595953476788588"
     },
     "user_tz": 420
    },
    "id": "RHuzNFhylPD0",
    "outputId": "d43be12b-183d-4472-c4ef-dd09b2849d91"
   },
   "outputs": [
    {
     "name": "stdout",
     "output_type": "stream",
     "text": [
      "Cost function: 48.54\n"
     ]
    },
    {
     "data": {
      "image/png": "[encoded data removed]",
      "text/plain": [
       "<Figure size 432x288 with 1 Axes>"
      ]
     },
     "metadata": {
      "needs_background": "light"
     },
     "output_type": "display_data"
    }
   ],
   "source": [
    "w_normal_equations = normal_equations(X, y)\n",
    "plot_model(X_test, w_normal_equations)\n",
    "print (\"Cost function: %.2f\" % cost_function(X, y, w_normal_equations))"
   ]
  },
  {
   "cell_type": "markdown",
   "metadata": {
    "id": "2CeT3slHlPD0"
   },
   "source": [
    "## (7 points) Implement second training algorithm: (vectorized) gradient descent\n",
    "\n",
    "Implement gradient descent for multivariate linear regression. Make sure your solution is vectorized. If you use for-loops to compute the gradient you will not receive full credit. "
   ]
  },
  {
   "cell_type": "code",
   "execution_count": 13,
   "metadata": {
    "executionInfo": {
     "elapsed": 119,
     "status": "ok",
     "timestamp": 1614046770176,
     "user": {
      "displayName": "Diksha Shukla",
      "photoUrl": "https://lh3.googleusercontent.com/a-/AOh14Gj8lXg0hKeWY2rkOSOCVonzSRMlTllqRE8wPyEZ8A=s64",
      "userId": "05403595953476788588"
     },
     "user_tz": 420
    },
    "id": "gDob8TjzlPD0"
   },
   "outputs": [],
   "source": [
    "def gradient_descent( X, y, alpha, iters, w=None ):\n",
    "    '''\n",
    "    Train a linear regression model by gradient descent\n",
    "\n",
    "    Inputs: \n",
    "        X       m x n data matrix\n",
    "        y       training output (length m vector)\n",
    "        alpha   step size\n",
    "        iters   number of iterations\n",
    "        w   initial parameter values (length n vector; optional)\n",
    "    \n",
    "    Output:\n",
    "        w      learned parameters (length n vector)\n",
    "        J_history  trace of cost function value in each iteration\n",
    "\n",
    "    '''\n",
    "\n",
    "    m,n = X.shape\n",
    "    \n",
    "    if w is None:\n",
    "        w = np.zeros(n)\n",
    "\n",
    "    tol = 1e-10\n",
    "    J_history = np.zeros(iters)\n",
    "    i = 0\n",
    "    grad = -1* np.matmul(np.transpose(X), (y - np.matmul(X, w)))\n",
    "\n",
    "    while np.linalg.norm(grad, ord=2) > tol and i<iters: \n",
    "        w = w - alpha * grad\n",
    "        grad = -1* np.matmul(np.transpose(X), (y - np.matmul(X, w)))\n",
    "\n",
    "        # Record cost function\n",
    "        J_history[i] = cost_function(X, y, w)\n",
    "        i +=1 \n",
    "\n",
    "    print('L2 norm of gradient: ', np.linalg.norm(grad, ord=2))\n",
    "    return w, J_history"
   ]
  },
  {
   "cell_type": "markdown",
   "metadata": {
    "id": "NlaQa21TlPD0"
   },
   "source": [
    "## (6 points) Use gradient descent to train the model\n",
    "* Write code to call your ``gradient_descent`` method to learn parameter\n",
    "* Plot the model fit (use ``plot_model``)\n",
    "* Plot the cost function vs. iteration to help assess convergence\n",
    "* Print the final value of the cost function\n",
    "* Experiment with different step sizes and numbers of iterations until you can find a good hypothesis. Try to match the cost function value from ``normal_equations`` to two decimal places. How many iterations does this take?"
   ]
  },
  {
   "cell_type": "code",
   "execution_count": 14,
   "metadata": {
    "id": "d5_UZrxAlPD0"
   },
   "outputs": [
    {
     "name": "stdout",
     "output_type": "stream",
     "text": [
      "L2 norm of gradient:  0.4491412701041204\n",
      "Cost function: 48.54\n"
     ]
    },
    {
     "data": {
      "image/png": "[encoded data removed]",
      "text/plain": [
       "<Figure size 432x288 with 1 Axes>"
      ]
     },
     "metadata": {
      "needs_background": "light"
     },
     "output_type": "display_data"
    },
    {
     "data": {
      "image/png": "[encoded data removed]",
      "text/plain": [
       "<Figure size 432x288 with 1 Axes>"
      ]
     },
     "metadata": {
      "needs_background": "light"
     },
     "output_type": "display_data"
    }
   ],
   "source": [
    "# call gradient descent to solve\n",
    "w_gradient_descent, J_history = gradient_descent(X, y, 1e-7, iters = 1000000)\n",
    "\n",
    "# plot model \n",
    "plot_model(X_test, w_gradient_descent)\n",
    "\n",
    "# plot cost function in log scale\n",
    "plt.figure()\n",
    "plt.plot(J_history)\n",
    "plt.xlabel('timesteps')\n",
    "plt.ylabel('Cost function')\n",
    "plt.title('Cost function history')\n",
    "\n",
    "print (\"Cost function: %.2f\" % cost_function(X, y, w_gradient_descent))\n",
    "\n"
   ]
  },
  {
   "cell_type": "markdown",
   "metadata": {
    "id": "ujYkV-a1lPD1"
   },
   "source": [
    "Any step size greate than 1e-7 did not work. I ended up getting overflow. So, step size maximum limit is 1e-7. When number of iterations is set to 1e5 the run time is not that long and final cost function is very close to closed form solution (49.14). To match closed form solution to the second decimal, the number iterations should be at least 1e6. This takes around 1 minute to run. "
   ]
  },
  {
   "cell_type": "markdown",
   "metadata": {
    "collapsed": true,
    "id": "4uM3UjcGlPD1"
   },
   "source": [
    "## (10 points) Gradient descent with feature normalization\n",
    "You should have observed\n",
    "that it takes many iterations of gradient descent to match the cost\n",
    "function value achieved by the normal equations. Now\n",
    "you will implement feature normalization to improve the convergence\n",
    "of gradient descent. Use the following formula\n",
    "for feature normalization:\n",
    "\n",
    "$$x^{(i)}_j \\leftarrow \\frac{x^{(i)}_j - \\mu_j}{\\sigma_j}$$\n",
    "\n",
    "Here are some guidelines for the implementation:\n",
    "\n",
    "* The same transformation should be applied to train and test data.\n",
    "\n",
    "* The values $\\mu_j$ and $\\sigma_j$ are the mean and standard deviation of\n",
    "the $j$th column (i.e., feature) in the **training data**. (Hint:\n",
    "there are numpy functions to compute these.)\n",
    "\n",
    "* Do not normalize the column of all ones. (Optional question: why?)\n",
    "\n",
    "* Use broadcasting to do the normalization--don't write for loops\n",
    "\n",
    "After normalizing both the training data and test data, follow the same steps as above to experiment with gradient descent using the *normalized* training and test data: print the value of the cost function, and create the same plots. Tune the step size and number of iterations again to make gradient descent converge as quickly as possible. How many iterations does it take to match the cost function value from ``normal_equations`` to two decimal places?  \n"
   ]
  },
  {
   "cell_type": "code",
   "execution_count": 15,
   "metadata": {
    "id": "5z1tDAxHlPD1"
   },
   "outputs": [],
   "source": [
    "def normalize_features(X_train, X_test):\n",
    "    '''\n",
    "    Normalize features of X based on mean and standart deviation.\n",
    "\n",
    "    Inputs: \n",
    "        X_train       m x n train data matrix unnormalized\n",
    "        X_test        m x n test data matrix unnormalized\n",
    "    \n",
    "    Outputs:\n",
    "        X_train       m x n train data matrix normalized\n",
    "        X_test        m x n test data matrix normalized\n",
    "    '''\n",
    "\n",
    "    m,n = X.shape\n",
    "    mean_of_features = [np.mean(X_train[:, i]) for i in range(1, n)]\n",
    "    std_of_features = [np.std(X_train[:, i]) for i in range(1, n)]\n",
    "\n",
    "    print(mean_of_features)\n",
    "    print(std_of_features)\n",
    "\n",
    "    X_train[:, 1:] = (X_train[:, 1:] - mean_of_features)/std_of_features\n",
    "    X_test[:, 1:] = (X_test[:, 1:] - mean_of_features)/std_of_features\n",
    "\n",
    "    # print(X_train)\n",
    "    # print(X_test)\n",
    "\n",
    "    return X_train, X_test\n"
   ]
  },
  {
   "cell_type": "code",
   "execution_count": 16,
   "metadata": {},
   "outputs": [
    {
     "name": "stdout",
     "output_type": "stream",
     "text": [
      "[-0.27206160487482345, 8.3857990622863, -5.157243677092947, 129.10072347609264]\n",
      "[2.8830160501529014, 7.666752739136097, 48.11746090815848, 170.87764063837332]\n",
      "L2 norm of gradient:  0.1447953758679879\n",
      "Cost function: 48.54\n"
     ]
    },
    {
     "data": {
      "image/png": "[encoded data removed]",
      "text/plain": [
       "<Figure size 432x288 with 1 Axes>"
      ]
     },
     "metadata": {
      "needs_background": "light"
     },
     "output_type": "display_data"
    },
    {
     "data": {
      "image/png": "[encoded data removed]",
      "text/plain": [
       "<Figure size 432x288 with 1 Axes>"
      ]
     },
     "metadata": {
      "needs_background": "light"
     },
     "output_type": "display_data"
    }
   ],
   "source": [
    "# normalize data \n",
    "X_train_norm, X_test_norm = normalize_features(X, X_test)\n",
    "\n",
    "# call gradient descent to solve on normalized data\n",
    "w_gradient_descent_nrom, J_history_norm = gradient_descent(X_train_norm, y, 1e-3, iters = 1500)\n",
    "\n",
    "# plot model fit\n",
    "plt.figure()\n",
    "y_test_norm = np.dot(X_test_norm, w_gradient_descent_nrom)\n",
    "# print(y_test_norm)\n",
    "# print(X_test_norm[:, 1])\n",
    "\n",
    "plt.scatter(X_train_norm[:, 1], y)\n",
    "plt.plot(X_test_norm[:, 1],   y_test_norm)\n",
    "plt.legend(['Test', 'Train'])\n",
    "\n",
    "# plot cost function in log scale\n",
    "J_history = np.log(J_history_norm)\n",
    "plt.figure()\n",
    "plt.plot(J_history_norm)\n",
    "plt.xlabel('timesteps')\n",
    "plt.ylabel('log of Cost function')\n",
    "plt.title('Cost function history')\n",
    "\n",
    "print (\"Cost function: %.2f\" % cost_function(X_train_norm, y, w_gradient_descent_nrom))\n"
   ]
  },
  {
   "cell_type": "markdown",
   "metadata": {
    "id": "l4pV8oRllPD1"
   },
   "source": [
    "On normalized data, it takes way less time to converge. Step size 1e-2 did not converge.  With step size of 1e-3 it takes 1500 iterations to get the same cost function as closed form solution. \n",
    "\n",
    "\n",
    "To answer the question why the \"1\" feature should not be included in normalization: It is because if we normalize it we will get a different regression equation. The first feature that is multiplied to w0 (zeroth weight) will no longer be one. It will look something like this \n",
    "\n",
    "$$\n",
    "h_{w}(x) = w_0 x^c + w_1 x + w_2 x^2 +  w_3 x^3 + w_4 x^4\n",
    "= \\boldsymbol{w}^T \\mathbf{x}\n",
    "$$\n",
    "\n",
    "$$\n",
    "\\boldsymbol{w} = \\begin{bmatrix}w_0 \\\\ w_1 \\\\ w_2 \\\\ w_3 \\\\ w_4\\end{bmatrix}, \n",
    "\\qquad\n",
    "\\mathbf{x} = \\begin{bmatrix}x^c \\\\ x \\\\ x^2 \\\\ x^3 \\\\ x^4\\end{bmatrix}\n",
    "$$\n",
    "\n",
    "Where value of c will depend on mean and standart deviation of expanded matrix X"
   ]
  },
  {
   "cell_type": "code",
   "execution_count": null,
   "metadata": {},
   "outputs": [],
   "source": []
  }
 ],
 "metadata": {
  "anaconda-cloud": {},
  "colab": {
   "name": "multivariate-linear-regression.ipynb",
   "provenance": []
  },
  "kernelspec": {
   "display_name": "Python 3 (ipykernel)",
   "language": "python",
   "name": "python3"
  },
  "language_info": {
   "codemirror_mode": {
    "name": "ipython",
    "version": 3
   },
   "file_extension": ".py",
   "mimetype": "text/x-python",
   "name": "python",
   "nbconvert_exporter": "python",
   "pygments_lexer": "ipython3",
   "version": "3.10.6"
  }
 },
 "nbformat": 4,
 "nbformat_minor": 1
}
